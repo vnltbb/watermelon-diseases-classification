{
 "cells": [
  {
   "cell_type": "markdown",
   "id": "60451073",
   "metadata": {},
   "source": [
    "### moduls install"
   ]
  },
  {
   "cell_type": "code",
   "execution_count": 103,
   "id": "e3d425d7",
   "metadata": {},
   "outputs": [
    {
     "name": "stderr",
     "output_type": "stream",
     "text": [
      "2660.33s - pydevd: Sending message related to process being replaced timed-out after 5 seconds\n"
     ]
    },
    {
     "name": "stdout",
     "output_type": "stream",
     "text": [
      "Requirement already satisfied: tensorflow==2.9.0 in /home/nanopore/miniconda3/lib/python3.9/site-packages (2.9.0)\n",
      "Requirement already satisfied: gast<=0.4.0,>=0.2.1 in /home/nanopore/miniconda3/lib/python3.9/site-packages (from tensorflow==2.9.0) (0.4.0)\n",
      "Requirement already satisfied: libclang>=13.0.0 in /home/nanopore/miniconda3/lib/python3.9/site-packages (from tensorflow==2.9.0) (18.1.1)\n",
      "Requirement already satisfied: six>=1.12.0 in /home/nanopore/.local/lib/python3.9/site-packages (from tensorflow==2.9.0) (1.16.0)\n",
      "Requirement already satisfied: packaging in /home/nanopore/.local/lib/python3.9/site-packages (from tensorflow==2.9.0) (23.1)\n",
      "Requirement already satisfied: h5py>=2.9.0 in /home/nanopore/miniconda3/lib/python3.9/site-packages (from tensorflow==2.9.0) (3.13.0)\n",
      "Requirement already satisfied: keras-preprocessing>=1.1.1 in /home/nanopore/miniconda3/lib/python3.9/site-packages (from tensorflow==2.9.0) (1.1.2)\n",
      "Requirement already satisfied: google-pasta>=0.1.1 in /home/nanopore/miniconda3/lib/python3.9/site-packages (from tensorflow==2.9.0) (0.2.0)\n",
      "Requirement already satisfied: absl-py>=1.0.0 in /home/nanopore/miniconda3/lib/python3.9/site-packages (from tensorflow==2.9.0) (2.2.2)\n",
      "Requirement already satisfied: termcolor>=1.1.0 in /home/nanopore/miniconda3/lib/python3.9/site-packages (from tensorflow==2.9.0) (3.0.1)\n",
      "Requirement already satisfied: astunparse>=1.6.0 in /home/nanopore/miniconda3/lib/python3.9/site-packages (from tensorflow==2.9.0) (1.6.3)\n",
      "Requirement already satisfied: tensorboard<2.10,>=2.9 in /home/nanopore/miniconda3/lib/python3.9/site-packages (from tensorflow==2.9.0) (2.9.1)\n",
      "Requirement already satisfied: grpcio<2.0,>=1.24.3 in /home/nanopore/miniconda3/lib/python3.9/site-packages (from tensorflow==2.9.0) (1.71.0)\n",
      "Requirement already satisfied: numpy>=1.20 in /home/nanopore/miniconda3/lib/python3.9/site-packages (from tensorflow==2.9.0) (1.26.4)\n",
      "Requirement already satisfied: typing-extensions>=3.6.6 in /home/nanopore/.local/lib/python3.9/site-packages (from tensorflow==2.9.0) (4.5.0)\n",
      "Requirement already satisfied: setuptools in /home/nanopore/miniconda3/lib/python3.9/site-packages (from tensorflow==2.9.0) (61.2.0)\n",
      "Requirement already satisfied: flatbuffers<2,>=1.12 in /home/nanopore/miniconda3/lib/python3.9/site-packages (from tensorflow==2.9.0) (1.12)\n",
      "Requirement already satisfied: opt-einsum>=2.3.2 in /home/nanopore/miniconda3/lib/python3.9/site-packages (from tensorflow==2.9.0) (3.4.0)\n",
      "Requirement already satisfied: tensorflow-io-gcs-filesystem>=0.23.1 in /home/nanopore/miniconda3/lib/python3.9/site-packages (from tensorflow==2.9.0) (0.37.1)\n",
      "Requirement already satisfied: wrapt>=1.11.0 in /home/nanopore/miniconda3/lib/python3.9/site-packages (from tensorflow==2.9.0) (1.17.2)\n",
      "Requirement already satisfied: tensorflow-estimator<2.10.0,>=2.9.0rc0 in /home/nanopore/miniconda3/lib/python3.9/site-packages (from tensorflow==2.9.0) (2.9.0)\n",
      "Requirement already satisfied: keras<2.10.0,>=2.9.0rc0 in /home/nanopore/miniconda3/lib/python3.9/site-packages (from tensorflow==2.9.0) (2.9.0)\n",
      "Requirement already satisfied: protobuf>=3.9.2 in /home/nanopore/miniconda3/lib/python3.9/site-packages (from tensorflow==2.9.0) (3.19.6)\n",
      "Requirement already satisfied: wheel<1.0,>=0.23.0 in /home/nanopore/miniconda3/lib/python3.9/site-packages (from astunparse>=1.6.0->tensorflow==2.9.0) (0.37.1)\n",
      "Requirement already satisfied: google-auth-oauthlib<0.5,>=0.4.1 in /home/nanopore/miniconda3/lib/python3.9/site-packages (from tensorboard<2.10,>=2.9->tensorflow==2.9.0) (0.4.6)\n",
      "Requirement already satisfied: requests<3,>=2.21.0 in /home/nanopore/miniconda3/lib/python3.9/site-packages (from tensorboard<2.10,>=2.9->tensorflow==2.9.0) (2.27.1)\n",
      "Requirement already satisfied: tensorboard-data-server<0.7.0,>=0.6.0 in /home/nanopore/miniconda3/lib/python3.9/site-packages (from tensorboard<2.10,>=2.9->tensorflow==2.9.0) (0.6.1)\n",
      "Requirement already satisfied: tensorboard-plugin-wit>=1.6.0 in /home/nanopore/miniconda3/lib/python3.9/site-packages (from tensorboard<2.10,>=2.9->tensorflow==2.9.0) (1.8.1)\n",
      "Requirement already satisfied: markdown>=2.6.8 in /home/nanopore/miniconda3/lib/python3.9/site-packages (from tensorboard<2.10,>=2.9->tensorflow==2.9.0) (3.7)\n",
      "Requirement already satisfied: werkzeug>=1.0.1 in /home/nanopore/miniconda3/lib/python3.9/site-packages (from tensorboard<2.10,>=2.9->tensorflow==2.9.0) (3.1.3)\n",
      "Requirement already satisfied: google-auth<3,>=1.6.3 in /home/nanopore/miniconda3/lib/python3.9/site-packages (from tensorboard<2.10,>=2.9->tensorflow==2.9.0) (2.38.0)\n",
      "Requirement already satisfied: cachetools<6.0,>=2.0.0 in /home/nanopore/miniconda3/lib/python3.9/site-packages (from google-auth<3,>=1.6.3->tensorboard<2.10,>=2.9->tensorflow==2.9.0) (5.5.2)\n",
      "Requirement already satisfied: pyasn1-modules>=0.2.1 in /home/nanopore/miniconda3/lib/python3.9/site-packages (from google-auth<3,>=1.6.3->tensorboard<2.10,>=2.9->tensorflow==2.9.0) (0.4.2)\n",
      "Requirement already satisfied: rsa<5,>=3.1.4 in /home/nanopore/miniconda3/lib/python3.9/site-packages (from google-auth<3,>=1.6.3->tensorboard<2.10,>=2.9->tensorflow==2.9.0) (4.9)\n",
      "Requirement already satisfied: requests-oauthlib>=0.7.0 in /home/nanopore/miniconda3/lib/python3.9/site-packages (from google-auth-oauthlib<0.5,>=0.4.1->tensorboard<2.10,>=2.9->tensorflow==2.9.0) (2.0.0)\n",
      "Requirement already satisfied: importlib-metadata>=4.4 in /home/nanopore/.local/lib/python3.9/site-packages (from markdown>=2.6.8->tensorboard<2.10,>=2.9->tensorflow==2.9.0) (6.6.0)\n",
      "Requirement already satisfied: zipp>=0.5 in /home/nanopore/.local/lib/python3.9/site-packages (from importlib-metadata>=4.4->markdown>=2.6.8->tensorboard<2.10,>=2.9->tensorflow==2.9.0) (3.15.0)\n",
      "Requirement already satisfied: pyasn1<0.7.0,>=0.6.1 in /home/nanopore/miniconda3/lib/python3.9/site-packages (from pyasn1-modules>=0.2.1->google-auth<3,>=1.6.3->tensorboard<2.10,>=2.9->tensorflow==2.9.0) (0.6.1)\n",
      "Requirement already satisfied: urllib3<1.27,>=1.21.1 in /home/nanopore/miniconda3/lib/python3.9/site-packages (from requests<3,>=2.21.0->tensorboard<2.10,>=2.9->tensorflow==2.9.0) (1.26.8)\n",
      "Requirement already satisfied: certifi>=2017.4.17 in /home/nanopore/miniconda3/lib/python3.9/site-packages (from requests<3,>=2.21.0->tensorboard<2.10,>=2.9->tensorflow==2.9.0) (2022.12.7)\n",
      "Requirement already satisfied: charset-normalizer~=2.0.0 in /home/nanopore/miniconda3/lib/python3.9/site-packages (from requests<3,>=2.21.0->tensorboard<2.10,>=2.9->tensorflow==2.9.0) (2.0.4)\n",
      "Requirement already satisfied: idna<4,>=2.5 in /home/nanopore/miniconda3/lib/python3.9/site-packages (from requests<3,>=2.21.0->tensorboard<2.10,>=2.9->tensorflow==2.9.0) (3.3)\n",
      "Requirement already satisfied: oauthlib>=3.0.0 in /home/nanopore/miniconda3/lib/python3.9/site-packages (from requests-oauthlib>=0.7.0->google-auth-oauthlib<0.5,>=0.4.1->tensorboard<2.10,>=2.9->tensorflow==2.9.0) (3.2.2)\n",
      "Requirement already satisfied: MarkupSafe>=2.1.1 in /home/nanopore/miniconda3/lib/python3.9/site-packages (from werkzeug>=1.0.1->tensorboard<2.10,>=2.9->tensorflow==2.9.0) (3.0.2)\n"
     ]
    },
    {
     "name": "stderr",
     "output_type": "stream",
     "text": [
      "2666.20s - pydevd: Sending message related to process being replaced timed-out after 5 seconds\n"
     ]
    },
    {
     "name": "stdout",
     "output_type": "stream",
     "text": [
      "Requirement already satisfied: numpy<2.0 in /home/nanopore/miniconda3/lib/python3.9/site-packages (1.26.4)\n"
     ]
    },
    {
     "name": "stderr",
     "output_type": "stream",
     "text": [
      "2672.00s - pydevd: Sending message related to process being replaced timed-out after 5 seconds\n"
     ]
    },
    {
     "name": "stdout",
     "output_type": "stream",
     "text": [
      "Requirement already satisfied: matplotlib in /home/nanopore/miniconda3/lib/python3.9/site-packages (3.9.4)\n",
      "Requirement already satisfied: seaborn in /home/nanopore/miniconda3/lib/python3.9/site-packages (0.13.2)\n",
      "Requirement already satisfied: scikit-learn in /home/nanopore/miniconda3/lib/python3.9/site-packages (1.6.1)\n",
      "Requirement already satisfied: opencv-python-headless in /home/nanopore/miniconda3/lib/python3.9/site-packages (4.11.0.86)\n",
      "Requirement already satisfied: pyparsing>=2.3.1 in /home/nanopore/miniconda3/lib/python3.9/site-packages (from matplotlib) (3.2.3)\n",
      "Requirement already satisfied: importlib-resources>=3.2.0 in /home/nanopore/miniconda3/lib/python3.9/site-packages (from matplotlib) (6.5.2)\n",
      "Requirement already satisfied: cycler>=0.10 in /home/nanopore/miniconda3/lib/python3.9/site-packages (from matplotlib) (0.12.1)\n",
      "Requirement already satisfied: python-dateutil>=2.7 in /home/nanopore/.local/lib/python3.9/site-packages (from matplotlib) (2.8.2)\n",
      "Requirement already satisfied: numpy>=1.23 in /home/nanopore/miniconda3/lib/python3.9/site-packages (from matplotlib) (1.26.4)\n",
      "Requirement already satisfied: contourpy>=1.0.1 in /home/nanopore/miniconda3/lib/python3.9/site-packages (from matplotlib) (1.3.0)\n",
      "Requirement already satisfied: fonttools>=4.22.0 in /home/nanopore/miniconda3/lib/python3.9/site-packages (from matplotlib) (4.57.0)\n",
      "Requirement already satisfied: pillow>=8 in /home/nanopore/miniconda3/lib/python3.9/site-packages (from matplotlib) (11.1.0)\n",
      "Requirement already satisfied: kiwisolver>=1.3.1 in /home/nanopore/miniconda3/lib/python3.9/site-packages (from matplotlib) (1.4.7)\n",
      "Requirement already satisfied: packaging>=20.0 in /home/nanopore/.local/lib/python3.9/site-packages (from matplotlib) (23.1)\n",
      "Requirement already satisfied: pandas>=1.2 in /home/nanopore/miniconda3/lib/python3.9/site-packages (from seaborn) (2.2.3)\n",
      "Requirement already satisfied: threadpoolctl>=3.1.0 in /home/nanopore/miniconda3/lib/python3.9/site-packages (from scikit-learn) (3.6.0)\n",
      "Requirement already satisfied: scipy>=1.6.0 in /home/nanopore/miniconda3/lib/python3.9/site-packages (from scikit-learn) (1.13.1)\n",
      "Requirement already satisfied: joblib>=1.2.0 in /home/nanopore/miniconda3/lib/python3.9/site-packages (from scikit-learn) (1.4.2)\n",
      "Requirement already satisfied: zipp>=3.1.0 in /home/nanopore/.local/lib/python3.9/site-packages (from importlib-resources>=3.2.0->matplotlib) (3.15.0)\n",
      "Requirement already satisfied: pytz>=2020.1 in /home/nanopore/miniconda3/lib/python3.9/site-packages (from pandas>=1.2->seaborn) (2025.2)\n",
      "Requirement already satisfied: tzdata>=2022.7 in /home/nanopore/miniconda3/lib/python3.9/site-packages (from pandas>=1.2->seaborn) (2025.2)\n",
      "Requirement already satisfied: six>=1.5 in /home/nanopore/.local/lib/python3.9/site-packages (from python-dateutil>=2.7->matplotlib) (1.16.0)\n"
     ]
    }
   ],
   "source": [
    "!pip install tensorflow==2.9.0\n",
    "!pip install \"numpy<2.0\"\n",
    "!pip install matplotlib seaborn scikit-learn opencv-python-headless"
   ]
  },
  {
   "cell_type": "markdown",
   "id": "d657cbb5",
   "metadata": {},
   "source": [
    "### import moduls"
   ]
  },
  {
   "cell_type": "code",
   "execution_count": 104,
   "id": "e7ab7edb",
   "metadata": {},
   "outputs": [],
   "source": [
    "import os\n",
    "import json\n",
    "import numpy as np\n",
    "import tensorflow as tf\n",
    "from tensorflow.keras.models import model_from_json\n",
    "from tensorflow.keras.preprocessing import image\n",
    "import matplotlib.pyplot as plt"
   ]
  },
  {
   "cell_type": "markdown",
   "id": "e8c2d82d",
   "metadata": {},
   "source": [
    "### ⭐️ dir setting"
   ]
  },
  {
   "cell_type": "code",
   "execution_count": 105,
   "id": "adbd4bec",
   "metadata": {},
   "outputs": [],
   "source": [
    "model_dir = '/home/nanopore/바탕화면/hajung/watermelon-disease/results/efficient_watermelonAug_250408' # ⭐️ 여기 경로 확인\n",
    "structure_path = os.path.join(model_dir, 'model_structure.json')\n",
    "weights_path = os.path.join(model_dir, 'model_weights.h5')\n",
    "config_path = os.path.join(model_dir, 'config.json')\n",
    "class_info_path = os.path.join(model_dir, 'class_info.json')"
   ]
  },
  {
   "cell_type": "markdown",
   "id": "88bcf80c",
   "metadata": {},
   "source": [
    "### model loading"
   ]
  },
  {
   "cell_type": "code",
   "execution_count": 106,
   "id": "25dd026d",
   "metadata": {},
   "outputs": [],
   "source": [
    "# class info\n",
    "def load_class_info(class_info_path):\n",
    "    # class_info.json 로드\n",
    "    with open(os.path.join(model_dir, 'class_info.json')) as f:\n",
    "        class_info = json.load(f)  \n",
    "\n",
    "    # 클래스 인덱스 → 라벨 딕셔너리 생성\n",
    "    idx_to_class = {entry['index']: entry['class'] for entry in class_info}\n",
    "    \n",
    "    # 입력 이미지 크기\n",
    "    img_size = (class_info[0]['height'], class_info[0]['width'])\n",
    "    \n",
    "    return idx_to_class, img_size"
   ]
  },
  {
   "cell_type": "code",
   "execution_count": 117,
   "id": "95779df5",
   "metadata": {},
   "outputs": [],
   "source": [
    "\n",
    "# 모델 + 클래스 정보 불러오기 (추론 전용)\n",
    "def load_inference_model(model_dir):\n",
    "    # 모델 구조 + 가중치\n",
    "    with open(os.path.join(model_dir, 'model_structure.json')) as f:\n",
    "        model = model_from_json(f.read())\n",
    "    model.load_weights(os.path.join(model_dir, 'model_weights.h5'))\n",
    "\n",
    "    return model\n"
   ]
  },
  {
   "cell_type": "markdown",
   "id": "1eb4002f",
   "metadata": {},
   "source": [
    "### input data"
   ]
  },
  {
   "cell_type": "code",
   "execution_count": 118,
   "id": "4696ecea",
   "metadata": {},
   "outputs": [],
   "source": [
    "from tensorflow.keras.preprocessing.image import load_img, img_to_array\n",
    "import matplotlib.pyplot as plt\n",
    "import numpy as np"
   ]
  },
  {
   "cell_type": "code",
   "execution_count": 119,
   "id": "805fb48b",
   "metadata": {},
   "outputs": [],
   "source": [
    "\n",
    "# 전처리 함수\n",
    "def preprocess_image(image_path, target_size):\n",
    "    img = load_img(image_path, target_size=img_size)  # 모델 입력 사이즈에 맞게 수정!\n",
    "    img_array = img_to_array(img)\n",
    "    img_array = img_array / 255.0  # 정규화\n",
    "    img_array = np.expand_dims(img_array, axis=0)  # 배치 차원 추가\n",
    "    \n",
    "    return img_array"
   ]
  },
  {
   "cell_type": "markdown",
   "id": "26cf55ed",
   "metadata": {},
   "source": [
    "### run"
   ]
  },
  {
   "cell_type": "code",
   "execution_count": 120,
   "id": "0657ee26",
   "metadata": {},
   "outputs": [],
   "source": [
    "import json\n",
    "import numpy as np\n",
    "import tensorflow as tf\n",
    "from tensorflow.keras.models import model_from_json\n",
    "from tensorflow.keras.preprocessing.image import load_img, img_to_array"
   ]
  },
  {
   "cell_type": "code",
   "execution_count": 121,
   "id": "4ad733a5",
   "metadata": {},
   "outputs": [],
   "source": [
    "# path setting\n",
    "structure_path = 'best_model/model_structure.json'\n",
    "weights_path = 'best_model/model_weights.h5'\n",
    "config_path = 'best_model/config.json'\n",
    "class_names_path = 'best_model/class_names.json'\n"
   ]
  },
  {
   "cell_type": "code",
   "execution_count": 122,
   "id": "8d2f92c5",
   "metadata": {},
   "outputs": [],
   "source": [
    "# 후처리 함수\n",
    "def decode_prediction(preds, idx_to_class):\n",
    "    pred_index = np.argmax(preds, axis=1)[0]\n",
    "    pred_class = idx_to_class[pred_index]\n",
    "    confidence = float(preds[0][pred_index])\n",
    "    return pred_class, confidence\n",
    "\n",
    "# 이미지 확인\n",
    "def image_print(img):\n",
    "    plt.imshow(img[0])\n",
    "    plt.axis('off')\n",
    "    plt.show()\n",
    "    return img\n",
    "\n",
    "# 예측 함수\n",
    "def predict_image(model, img, idx_to_class):\n",
    "    preds = model(img)\n",
    "    pred_class, confidence = decode_prediction(preds, idx_to_class)\n",
    "    return pred_class, confidence"
   ]
  },
  {
   "cell_type": "markdown",
   "id": "fa2f381a",
   "metadata": {},
   "source": [
    "#### ⭐️ model activate"
   ]
  },
  {
   "cell_type": "code",
   "execution_count": 123,
   "id": "ccaeec42",
   "metadata": {},
   "outputs": [
    {
     "name": "stdout",
     "output_type": "stream",
     "text": [
      "<class 'tensorflow.python.framework.ops.EagerTensor'>\n"
     ]
    }
   ],
   "source": [
    "print(type(model))"
   ]
  },
  {
   "cell_type": "code",
   "execution_count": 124,
   "id": "18c97fa2",
   "metadata": {},
   "outputs": [
    {
     "name": "stdout",
     "output_type": "stream",
     "text": [
      "📌 예측 클래스: Mosaic_Virus (99.68%)\n"
     ]
    }
   ],
   "source": [
    "# call variations\n",
    "idx_to_class, img_size = load_class_info('경로/파일이름')\n",
    "img_path = '/home/nanopore/바탕화면/hajung/input/img_MKH180810001_1.jpg'  # ⭐️ 예측할 이미지 경로\n",
    "img = preprocess_image(img_path, img_size)\n",
    "model = load_inference_model(model_dir)\n",
    "\n",
    "# run model\n",
    "pred_class, confidence = predict_image(model, img, idx_to_class)\n",
    "\n",
    "print(f\"📌 예측 클래스: {pred_class} ({confidence * 100:.2f}%)\")"
   ]
  }
 ],
 "metadata": {
  "kernelspec": {
   "display_name": "base",
   "language": "python",
   "name": "python3"
  },
  "language_info": {
   "codemirror_mode": {
    "name": "ipython",
    "version": 3
   },
   "file_extension": ".py",
   "mimetype": "text/x-python",
   "name": "python",
   "nbconvert_exporter": "python",
   "pygments_lexer": "ipython3",
   "version": "3.9.12"
  }
 },
 "nbformat": 4,
 "nbformat_minor": 5
}
