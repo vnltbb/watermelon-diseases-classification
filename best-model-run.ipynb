{
 "cells": [
  {
   "cell_type": "markdown",
   "id": "60451073",
   "metadata": {},
   "source": [
    "### moduls install"
   ]
  },
  {
   "cell_type": "code",
   "execution_count": null,
   "id": "e3d425d7",
   "metadata": {},
   "outputs": [],
   "source": [
    "!pip install tensorflow==2.9.0\n",
    "!pip install \"numpy<2.0\"\n",
    "!pip install matplotlib seaborn scikit-learn opencv-python-headless"
   ]
  },
  {
   "cell_type": "markdown",
   "id": "d657cbb5",
   "metadata": {},
   "source": [
    "### import moduls"
   ]
  },
  {
   "cell_type": "code",
   "execution_count": null,
   "id": "e7ab7edb",
   "metadata": {},
   "outputs": [],
   "source": [
    "import os\n",
    "import json\n",
    "import numpy as np\n",
    "import tensorflow as tf\n",
    "from tensorflow.keras.models import model_from_json\n",
    "from tensorflow.keras.preprocessing import image\n",
    "import matplotlib.pyplot as plt"
   ]
  },
  {
   "cell_type": "markdown",
   "id": "e8c2d82d",
   "metadata": {},
   "source": [
    "### ⭐️ dir setting"
   ]
  },
  {
   "cell_type": "code",
   "execution_count": null,
   "id": "adbd4bec",
   "metadata": {},
   "outputs": [],
   "source": [
    "model_dir = 'best_model'\n",
    "structure_path = os.path.join(model_dir, 'model_structure.json')\n",
    "weights_path = os.path.join(model_dir, 'model_weights.h5')\n",
    "config_path = os.path.join(model_dir, 'config.json')\n",
    "class_info_path = os.path.join(model_dir, 'class_info.json')"
   ]
  },
  {
   "cell_type": "markdown",
   "id": "88bcf80c",
   "metadata": {},
   "source": [
    "### model loading"
   ]
  },
  {
   "cell_type": "code",
   "execution_count": null,
   "id": "95779df5",
   "metadata": {},
   "outputs": [],
   "source": [
    "\n",
    "# 모델 + 클래스 정보 불러오기 (추론 전용)\n",
    "def load_inference_model(model_dir):\n",
    "    # 모델 구조 + 가중치\n",
    "    with open(os.path.join(model_dir, 'model_structure.json')) as f:\n",
    "        model = model_from_json(f.read())\n",
    "    model.load_weights(os.path.join(model_dir, 'model_weights.h5'))\n",
    "\n",
    "    # class_info.json 로드\n",
    "    with open(os.path.join(model_dir, 'class_info.json')) as f:\n",
    "        class_info = json.load(f)\n",
    "    \n",
    "    # 클래스 인덱스 → 라벨 딕셔너리 생성\n",
    "    idx_to_class = {entry['index']: entry['class'] for entry in class_info}\n",
    "\n",
    "    # 입력 이미지 크기\n",
    "    img_height = class_info[0]['height']\n",
    "    img_width = class_info[0]['width']\n",
    "\n",
    "    return model, idx_to_class, (img_height, img_width)\n"
   ]
  },
  {
   "cell_type": "markdown",
   "id": "1eb4002f",
   "metadata": {},
   "source": [
    "### ⭐️ input data"
   ]
  },
  {
   "cell_type": "code",
   "execution_count": null,
   "id": "4696ecea",
   "metadata": {},
   "outputs": [],
   "source": [
    "from tensorflow.keras.preprocessing.image import load_img, img_to_array\n",
    "import matplotlib.pyplot as plt\n",
    "import numpy as np"
   ]
  },
  {
   "cell_type": "code",
   "execution_count": null,
   "id": "e9047c2c",
   "metadata": {},
   "outputs": [],
   "source": [
    "img_path = 'test_images/sample.jpg'  # ⭐️ 여기에 새 이미지 경로\n",
    "img = load_img(img_path, target_size=(224, 224))  # ⭐️ 모델 입력 사이즈에 맞게 수정!\n",
    "plt.imshow(img)\n",
    "plt.axis('off')\n",
    "plt.show()"
   ]
  },
  {
   "cell_type": "code",
   "execution_count": null,
   "id": "805fb48b",
   "metadata": {},
   "outputs": [],
   "source": [
    "\n",
    "# 전처리 함수\n",
    "def preprocess_image(image_path, target_size):\n",
    "    img = load_img(image_path, target_size=target_size)\n",
    "    img_array = img_to_array(img)\n",
    "    img_array = img_array / 255.0  # 정규화\n",
    "    img_array = np.expand_dims(img_array, axis=0)  # 배치 차원 추가\n",
    "    return img_array"
   ]
  },
  {
   "cell_type": "markdown",
   "id": "26cf55ed",
   "metadata": {},
   "source": [
    "### run"
   ]
  },
  {
   "cell_type": "code",
   "execution_count": null,
   "id": "0657ee26",
   "metadata": {},
   "outputs": [],
   "source": [
    "import json\n",
    "import numpy as np\n",
    "import tensorflow as tf\n",
    "from tensorflow.keras.models import model_from_json\n",
    "from tensorflow.keras.preprocessing.image import load_img, img_to_array"
   ]
  },
  {
   "cell_type": "code",
   "execution_count": null,
   "id": "4ad733a5",
   "metadata": {},
   "outputs": [],
   "source": [
    "# path setting\n",
    "structure_path = 'best_model/model_structure.json'\n",
    "weights_path = 'best_model/model_weights.h5'\n",
    "config_path = 'best_model/config.json'\n",
    "class_names_path = 'best_model/class_names.json'\n",
    "\n",
    "# model, class loading\n",
    "model, config = load_model_with_config(structure_path, weights_path, config_path)\n",
    "\n",
    "with open(class_names_path, 'r') as f:\n",
    "    class_names = json.load(f)\n"
   ]
  },
  {
   "cell_type": "code",
   "execution_count": null,
   "id": "8d2f92c5",
   "metadata": {},
   "outputs": [],
   "source": [
    "# 후처리 함수\n",
    "def decode_prediction(preds, idx_to_class):\n",
    "    pred_index = np.argmax(preds, axis=1)[0]\n",
    "    pred_class = idx_to_class[pred_index]\n",
    "    confidence = float(preds[0][pred_index])\n",
    "    return pred_class, confidence\n",
    "\n",
    "# 예측 함수\n",
    "def predict_image(model, img_path, img_size, idx_to_class):\n",
    "    img = preprocess_image(img_path, target_size=img_size)\n",
    "    preds = model.predict(img)\n",
    "    pred_class, confidence = decode_prediction(preds, idx_to_class)\n",
    "    return pred_class, confidence"
   ]
  },
  {
   "cell_type": "markdown",
   "id": "fa2f381a",
   "metadata": {},
   "source": [
    "#### ⭐️ model activate"
   ]
  },
  {
   "cell_type": "code",
   "execution_count": null,
   "id": "18c97fa2",
   "metadata": {},
   "outputs": [],
   "source": [
    "# running model\n",
    "img_path = 'your_image.jpg'  # ⭐️ 예측할 이미지 경로\n",
    "pred_class, confidence = predict_image(img_path, model, class_names)\n",
    "\n",
    "print(f\"📌 예측 클래스: {pred_class} ({confidence * 100:.2f}%)\")"
   ]
  }
 ],
 "metadata": {
  "kernelspec": {
   "display_name": "base",
   "language": "python",
   "name": "python3"
  },
  "language_info": {
   "name": "python",
   "version": "3.9.12"
  }
 },
 "nbformat": 4,
 "nbformat_minor": 5
}
